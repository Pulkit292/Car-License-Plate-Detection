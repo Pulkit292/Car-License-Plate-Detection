{
 "cells": [
  {
   "cell_type": "markdown",
   "metadata": {},
   "source": [
    "<a href=\"https://www.kaggle.com/code/aayusmaanjain/license-plate-detection?scriptVersionId=101824514\" target=\"_blank\"><img align=\"left\" alt=\"Kaggle\" title=\"Open in Kaggle\" src=\"https://kaggle.com/static/images/open-in-kaggle.svg\"></a>"
   ]
  },
  {
   "cell_type": "markdown",
   "metadata": {},
   "source": [
    "# Importing Dependencies"
   ]
  },
  {
   "cell_type": "code",
   "execution_count": 1,
   "metadata": {
    "_cell_guid": "b1076dfc-b9ad-4769-8c92-a6c4dae69d19",
    "_uuid": "8f2839f25d086af736a60e9eeb907d3b93b6e0e5",
    "execution": {
     "iopub.execute_input": "2022-07-26T18:27:45.766788Z",
     "iopub.status.busy": "2022-07-26T18:27:45.765911Z",
     "iopub.status.idle": "2022-07-26T18:27:48.570275Z",
     "shell.execute_reply": "2022-07-26T18:27:48.56898Z",
     "shell.execute_reply.started": "2022-07-26T18:27:45.766289Z"
    }
   },
   "outputs": [
    {
     "name": "stderr",
     "output_type": "stream",
     "text": [
      "c:\\Users\\pulki\\AppData\\Local\\Programs\\Python\\Python310\\lib\\site-packages\\tqdm\\auto.py:22: TqdmWarning: IProgress not found. Please update jupyter and ipywidgets. See https://ipywidgets.readthedocs.io/en/stable/user_install.html\n",
      "  from .autonotebook import tqdm as notebook_tqdm\n"
     ]
    }
   ],
   "source": [
    "import numpy as np \n",
    "import pandas as pd \n",
    "from sklearn.model_selection import train_test_split\n",
    "import xml.etree.ElementTree as ET\n",
    "import os \n",
    "import shutil\n",
    "from tqdm import tqdm\n",
    "import yaml\n",
    "import matplotlib.pyplot as plt \n",
    "import torch\n",
    "import pytesseract as pt\n",
    "import cv2\n",
    "%matplotlib inline"
   ]
  },
  {
   "cell_type": "code",
   "execution_count": 2,
   "metadata": {
    "execution": {
     "iopub.execute_input": "2022-07-26T18:27:48.57322Z",
     "iopub.status.busy": "2022-07-26T18:27:48.572593Z",
     "iopub.status.idle": "2022-07-26T18:27:48.580615Z",
     "shell.execute_reply": "2022-07-26T18:27:48.578927Z",
     "shell.execute_reply.started": "2022-07-26T18:27:48.573177Z"
    }
   },
   "outputs": [],
   "source": [
    "filenames = []\n",
    "\n",
    "size_props = {\n",
    "    'height':[],\n",
    "    'width':[]\n",
    "}\n",
    "\n",
    "bounding_box_props = {\n",
    "    'xmin':[],\n",
    "    'ymin':[],\n",
    "    'xmax':[],\n",
    "    'ymax':[]\n",
    "}"
   ]
  },
  {
   "cell_type": "markdown",
   "metadata": {},
   "source": [
    "# Fetching required properties from annotations"
   ]
  },
  {
   "cell_type": "code",
   "execution_count": 3,
   "metadata": {
    "execution": {
     "iopub.execute_input": "2022-07-26T18:27:48.583237Z",
     "iopub.status.busy": "2022-07-26T18:27:48.582472Z",
     "iopub.status.idle": "2022-07-26T18:27:50.09163Z",
     "shell.execute_reply": "2022-07-26T18:27:50.09045Z",
     "shell.execute_reply.started": "2022-07-26T18:27:48.583196Z"
    }
   },
   "outputs": [
    {
     "name": "stderr",
     "output_type": "stream",
     "text": [
      "100%|██████████| 433/433 [00:00<00:00, 820.71it/s]\n"
     ]
    }
   ],
   "source": [
    "annotations_path = 'input/car-plate-detection/annotations'\n",
    "for file in tqdm(os.listdir(annotations_path)):\n",
    "    annotation = ET.parse(os.path.join(annotations_path, file))\n",
    "    filenames.append(os.path.join(annotations_path, file))\n",
    "    size = annotation.find('size')\n",
    "    for name, prop_list in size_props.items():\n",
    "        prop_value = size.find(name).text\n",
    "        size_props[name].append(int(prop_value))\n",
    "    bounding_box = annotation.find('object').find('bndbox')\n",
    "    for name, prop_list in bounding_box_props.items():\n",
    "        prop_value = bounding_box.find(name).text\n",
    "        bounding_box_props[name].append(int(prop_value))"
   ]
  },
  {
   "cell_type": "code",
   "execution_count": 4,
   "metadata": {
    "execution": {
     "iopub.execute_input": "2022-07-26T18:27:50.096529Z",
     "iopub.status.busy": "2022-07-26T18:27:50.095502Z",
     "iopub.status.idle": "2022-07-26T18:27:50.109226Z",
     "shell.execute_reply": "2022-07-26T18:27:50.108019Z",
     "shell.execute_reply.started": "2022-07-26T18:27:50.096472Z"
    }
   },
   "outputs": [],
   "source": [
    "df = pd.DataFrame({\n",
    "    'file':filenames,\n",
    "    'width':size_props['width'],\n",
    "    'height':size_props['height'],\n",
    "    'xmin':bounding_box_props['xmin'],\n",
    "    'ymin':bounding_box_props['ymin'],\n",
    "    'xmax':bounding_box_props['xmax'],\n",
    "    'ymax':bounding_box_props['ymax']\n",
    "})"
   ]
  },
  {
   "cell_type": "code",
   "execution_count": 5,
   "metadata": {
    "execution": {
     "iopub.execute_input": "2022-07-26T18:27:50.112071Z",
     "iopub.status.busy": "2022-07-26T18:27:50.111255Z",
     "iopub.status.idle": "2022-07-26T18:27:50.135893Z",
     "shell.execute_reply": "2022-07-26T18:27:50.134244Z",
     "shell.execute_reply.started": "2022-07-26T18:27:50.112025Z"
    }
   },
   "outputs": [
    {
     "data": {
      "text/html": [
       "<div>\n",
       "<style scoped>\n",
       "    .dataframe tbody tr th:only-of-type {\n",
       "        vertical-align: middle;\n",
       "    }\n",
       "\n",
       "    .dataframe tbody tr th {\n",
       "        vertical-align: top;\n",
       "    }\n",
       "\n",
       "    .dataframe thead th {\n",
       "        text-align: right;\n",
       "    }\n",
       "</style>\n",
       "<table border=\"1\" class=\"dataframe\">\n",
       "  <thead>\n",
       "    <tr style=\"text-align: right;\">\n",
       "      <th></th>\n",
       "      <th>file</th>\n",
       "      <th>width</th>\n",
       "      <th>height</th>\n",
       "      <th>xmin</th>\n",
       "      <th>ymin</th>\n",
       "      <th>xmax</th>\n",
       "      <th>ymax</th>\n",
       "    </tr>\n",
       "  </thead>\n",
       "  <tbody>\n",
       "    <tr>\n",
       "      <th>0</th>\n",
       "      <td>input/car-plate-detection/annotations\\Cars0.xml</td>\n",
       "      <td>500</td>\n",
       "      <td>268</td>\n",
       "      <td>226</td>\n",
       "      <td>125</td>\n",
       "      <td>419</td>\n",
       "      <td>173</td>\n",
       "    </tr>\n",
       "    <tr>\n",
       "      <th>1</th>\n",
       "      <td>input/car-plate-detection/annotations\\Cars1.xml</td>\n",
       "      <td>400</td>\n",
       "      <td>248</td>\n",
       "      <td>134</td>\n",
       "      <td>128</td>\n",
       "      <td>262</td>\n",
       "      <td>160</td>\n",
       "    </tr>\n",
       "    <tr>\n",
       "      <th>2</th>\n",
       "      <td>input/car-plate-detection/annotations\\Cars10.xml</td>\n",
       "      <td>400</td>\n",
       "      <td>225</td>\n",
       "      <td>140</td>\n",
       "      <td>5</td>\n",
       "      <td>303</td>\n",
       "      <td>148</td>\n",
       "    </tr>\n",
       "    <tr>\n",
       "      <th>3</th>\n",
       "      <td>input/car-plate-detection/annotations\\Cars100.xml</td>\n",
       "      <td>400</td>\n",
       "      <td>267</td>\n",
       "      <td>175</td>\n",
       "      <td>114</td>\n",
       "      <td>214</td>\n",
       "      <td>131</td>\n",
       "    </tr>\n",
       "    <tr>\n",
       "      <th>4</th>\n",
       "      <td>input/car-plate-detection/annotations\\Cars101.xml</td>\n",
       "      <td>400</td>\n",
       "      <td>300</td>\n",
       "      <td>167</td>\n",
       "      <td>202</td>\n",
       "      <td>240</td>\n",
       "      <td>220</td>\n",
       "    </tr>\n",
       "  </tbody>\n",
       "</table>\n",
       "</div>"
      ],
      "text/plain": [
       "                                                file  width  height  xmin  \\\n",
       "0    input/car-plate-detection/annotations\\Cars0.xml    500     268   226   \n",
       "1    input/car-plate-detection/annotations\\Cars1.xml    400     248   134   \n",
       "2   input/car-plate-detection/annotations\\Cars10.xml    400     225   140   \n",
       "3  input/car-plate-detection/annotations\\Cars100.xml    400     267   175   \n",
       "4  input/car-plate-detection/annotations\\Cars101.xml    400     300   167   \n",
       "\n",
       "   ymin  xmax  ymax  \n",
       "0   125   419   173  \n",
       "1   128   262   160  \n",
       "2     5   303   148  \n",
       "3   114   214   131  \n",
       "4   202   240   220  "
      ]
     },
     "execution_count": 5,
     "metadata": {},
     "output_type": "execute_result"
    }
   ],
   "source": [
    "df.head()"
   ]
  },
  {
   "cell_type": "markdown",
   "metadata": {},
   "source": [
    "# Making annotations compatible with YOLO"
   ]
  },
  {
   "cell_type": "code",
   "execution_count": 6,
   "metadata": {
    "execution": {
     "iopub.execute_input": "2022-07-26T18:27:50.138019Z",
     "iopub.status.busy": "2022-07-26T18:27:50.137595Z",
     "iopub.status.idle": "2022-07-26T18:27:50.154956Z",
     "shell.execute_reply": "2022-07-26T18:27:50.153732Z",
     "shell.execute_reply.started": "2022-07-26T18:27:50.13798Z"
    }
   },
   "outputs": [],
   "source": [
    "df['center_x'] = (df['xmax'] + df['xmin'])/(2*df['width'])\n",
    "df['center_y'] = (df['ymax'] + df['ymin'])/(2*df['height'])\n",
    "\n",
    "df['bb_width'] = (df['xmax'] - df['xmin'])/df['width']\n",
    "df['bb_height'] = (df['ymax'] - df['ymin'])/df['height']"
   ]
  },
  {
   "cell_type": "code",
   "execution_count": 7,
   "metadata": {
    "execution": {
     "iopub.execute_input": "2022-07-26T18:27:50.157813Z",
     "iopub.status.busy": "2022-07-26T18:27:50.15737Z",
     "iopub.status.idle": "2022-07-26T18:27:50.173738Z",
     "shell.execute_reply": "2022-07-26T18:27:50.172459Z",
     "shell.execute_reply.started": "2022-07-26T18:27:50.157771Z"
    }
   },
   "outputs": [
    {
     "data": {
      "text/html": [
       "<div>\n",
       "<style scoped>\n",
       "    .dataframe tbody tr th:only-of-type {\n",
       "        vertical-align: middle;\n",
       "    }\n",
       "\n",
       "    .dataframe tbody tr th {\n",
       "        vertical-align: top;\n",
       "    }\n",
       "\n",
       "    .dataframe thead th {\n",
       "        text-align: right;\n",
       "    }\n",
       "</style>\n",
       "<table border=\"1\" class=\"dataframe\">\n",
       "  <thead>\n",
       "    <tr style=\"text-align: right;\">\n",
       "      <th></th>\n",
       "      <th>file</th>\n",
       "      <th>width</th>\n",
       "      <th>height</th>\n",
       "      <th>xmin</th>\n",
       "      <th>ymin</th>\n",
       "      <th>xmax</th>\n",
       "      <th>ymax</th>\n",
       "      <th>center_x</th>\n",
       "      <th>center_y</th>\n",
       "      <th>bb_width</th>\n",
       "      <th>bb_height</th>\n",
       "    </tr>\n",
       "  </thead>\n",
       "  <tbody>\n",
       "    <tr>\n",
       "      <th>0</th>\n",
       "      <td>input/car-plate-detection/annotations\\Cars0.xml</td>\n",
       "      <td>500</td>\n",
       "      <td>268</td>\n",
       "      <td>226</td>\n",
       "      <td>125</td>\n",
       "      <td>419</td>\n",
       "      <td>173</td>\n",
       "      <td>0.64500</td>\n",
       "      <td>0.555970</td>\n",
       "      <td>0.3860</td>\n",
       "      <td>0.179104</td>\n",
       "    </tr>\n",
       "    <tr>\n",
       "      <th>1</th>\n",
       "      <td>input/car-plate-detection/annotations\\Cars1.xml</td>\n",
       "      <td>400</td>\n",
       "      <td>248</td>\n",
       "      <td>134</td>\n",
       "      <td>128</td>\n",
       "      <td>262</td>\n",
       "      <td>160</td>\n",
       "      <td>0.49500</td>\n",
       "      <td>0.580645</td>\n",
       "      <td>0.3200</td>\n",
       "      <td>0.129032</td>\n",
       "    </tr>\n",
       "    <tr>\n",
       "      <th>2</th>\n",
       "      <td>input/car-plate-detection/annotations\\Cars10.xml</td>\n",
       "      <td>400</td>\n",
       "      <td>225</td>\n",
       "      <td>140</td>\n",
       "      <td>5</td>\n",
       "      <td>303</td>\n",
       "      <td>148</td>\n",
       "      <td>0.55375</td>\n",
       "      <td>0.340000</td>\n",
       "      <td>0.4075</td>\n",
       "      <td>0.635556</td>\n",
       "    </tr>\n",
       "    <tr>\n",
       "      <th>3</th>\n",
       "      <td>input/car-plate-detection/annotations\\Cars100.xml</td>\n",
       "      <td>400</td>\n",
       "      <td>267</td>\n",
       "      <td>175</td>\n",
       "      <td>114</td>\n",
       "      <td>214</td>\n",
       "      <td>131</td>\n",
       "      <td>0.48625</td>\n",
       "      <td>0.458801</td>\n",
       "      <td>0.0975</td>\n",
       "      <td>0.063670</td>\n",
       "    </tr>\n",
       "    <tr>\n",
       "      <th>4</th>\n",
       "      <td>input/car-plate-detection/annotations\\Cars101.xml</td>\n",
       "      <td>400</td>\n",
       "      <td>300</td>\n",
       "      <td>167</td>\n",
       "      <td>202</td>\n",
       "      <td>240</td>\n",
       "      <td>220</td>\n",
       "      <td>0.50875</td>\n",
       "      <td>0.703333</td>\n",
       "      <td>0.1825</td>\n",
       "      <td>0.060000</td>\n",
       "    </tr>\n",
       "  </tbody>\n",
       "</table>\n",
       "</div>"
      ],
      "text/plain": [
       "                                                file  width  height  xmin  \\\n",
       "0    input/car-plate-detection/annotations\\Cars0.xml    500     268   226   \n",
       "1    input/car-plate-detection/annotations\\Cars1.xml    400     248   134   \n",
       "2   input/car-plate-detection/annotations\\Cars10.xml    400     225   140   \n",
       "3  input/car-plate-detection/annotations\\Cars100.xml    400     267   175   \n",
       "4  input/car-plate-detection/annotations\\Cars101.xml    400     300   167   \n",
       "\n",
       "   ymin  xmax  ymax  center_x  center_y  bb_width  bb_height  \n",
       "0   125   419   173   0.64500  0.555970    0.3860   0.179104  \n",
       "1   128   262   160   0.49500  0.580645    0.3200   0.129032  \n",
       "2     5   303   148   0.55375  0.340000    0.4075   0.635556  \n",
       "3   114   214   131   0.48625  0.458801    0.0975   0.063670  \n",
       "4   202   240   220   0.50875  0.703333    0.1825   0.060000  "
      ]
     },
     "execution_count": 7,
     "metadata": {},
     "output_type": "execute_result"
    }
   ],
   "source": [
    "df.head()"
   ]
  },
  {
   "cell_type": "code",
   "execution_count": 8,
   "metadata": {
    "execution": {
     "iopub.execute_input": "2022-07-26T18:27:50.176739Z",
     "iopub.status.busy": "2022-07-26T18:27:50.176042Z",
     "iopub.status.idle": "2022-07-26T18:27:50.193767Z",
     "shell.execute_reply": "2022-07-26T18:27:50.192402Z",
     "shell.execute_reply.started": "2022-07-26T18:27:50.17669Z"
    }
   },
   "outputs": [],
   "source": [
    "# Keeping important columns only \n",
    "yolo_df = df[['file', 'center_x', 'center_y', 'bb_width', 'bb_height']]\n",
    "# Performing 70-15-15 split\n",
    "test_size = int(0.15 * len(df))\n",
    "\n",
    "df_train, df_test = train_test_split(yolo_df, test_size=test_size)\n",
    "df_train, df_val = train_test_split(df_train, test_size=test_size)"
   ]
  },
  {
   "cell_type": "code",
   "execution_count": 9,
   "metadata": {
    "execution": {
     "iopub.execute_input": "2022-07-26T18:27:50.198147Z",
     "iopub.status.busy": "2022-07-26T18:27:50.195888Z",
     "iopub.status.idle": "2022-07-26T18:27:50.208818Z",
     "shell.execute_reply": "2022-07-26T18:27:50.207444Z",
     "shell.execute_reply.started": "2022-07-26T18:27:50.198086Z"
    }
   },
   "outputs": [],
   "source": [
    "train_path = os.path.join('Images', 'train')\n",
    "val_path = os.path.join('Images','val')\n",
    "test_path = os.path.join('Images', 'test')\n",
    "images_path = 'input/car-plate-detection/images'\n",
    "\n",
    "if not os.path.exists(train_path):\n",
    "    os.makedirs(train_path)\n",
    "    print('Made folder for train set')\n",
    "\n",
    "if not os.path.exists(val_path):\n",
    "    os.makedirs(val_path)\n",
    "    print('Made folder for val set')\n",
    "\n",
    "if not os.path.exists(test_path):\n",
    "    os.makedirs(test_path)\n",
    "    print('Made folder for test set')"
   ]
  },
  {
   "cell_type": "markdown",
   "metadata": {},
   "source": [
    "# Creating train and test folders "
   ]
  },
  {
   "cell_type": "code",
   "execution_count": 10,
   "metadata": {
    "execution": {
     "iopub.execute_input": "2022-07-26T18:27:50.215429Z",
     "iopub.status.busy": "2022-07-26T18:27:50.214483Z",
     "iopub.status.idle": "2022-07-26T18:27:56.545773Z",
     "shell.execute_reply": "2022-07-26T18:27:56.544745Z",
     "shell.execute_reply.started": "2022-07-26T18:27:50.215384Z"
    }
   },
   "outputs": [
    {
     "name": "stdout",
     "output_type": "stream",
     "text": [
      "Moving images for train set\n"
     ]
    },
    {
     "name": "stderr",
     "output_type": "stream",
     "text": [
      "305it [00:03, 87.78it/s] \n"
     ]
    },
    {
     "name": "stdout",
     "output_type": "stream",
     "text": [
      "Done moving images for train set\n",
      "Moving images for val set\n"
     ]
    },
    {
     "name": "stderr",
     "output_type": "stream",
     "text": [
      "64it [00:00, 103.00it/s]\n"
     ]
    },
    {
     "name": "stdout",
     "output_type": "stream",
     "text": [
      "Done moving images for val set\n",
      "Moving images for test set\n"
     ]
    },
    {
     "name": "stderr",
     "output_type": "stream",
     "text": [
      "64it [00:00, 104.68it/s]"
     ]
    },
    {
     "name": "stdout",
     "output_type": "stream",
     "text": [
      "Done moving images for test set\n"
     ]
    },
    {
     "name": "stderr",
     "output_type": "stream",
     "text": [
      "\n"
     ]
    }
   ],
   "source": [
    "print('Moving images for train set')\n",
    "for _, row  in tqdm(df_train.iterrows()):\n",
    "    annotation_path = row['file']\n",
    "    image_name = os.path.split(annotation_path)[-1].replace('.xml','')\n",
    "    image_src = os.path.join(images_path, f'{image_name}.png')\n",
    "    image_dst = os.path.join(train_path, f'{image_name}.png')\n",
    "    shutil.copy2(image_src, image_dst)\n",
    "    label_text = f\"0 {row['center_x']} {row['center_y']} {row['bb_width']} {row['bb_height']}\"\n",
    "    with open(os.path.join(train_path, f'{image_name}.txt'), 'w') as f:\n",
    "        f.write(label_text)\n",
    "print('Done moving images for train set')\n",
    "\n",
    "print('Moving images for val set')\n",
    "for _, row  in tqdm(df_val.iterrows()):\n",
    "    annotation_path = row['file']\n",
    "    image_name = os.path.split(annotation_path)[-1].replace('.xml','')\n",
    "    image_src = os.path.join(images_path, f'{image_name}.png')\n",
    "    image_dst = os.path.join(val_path, f'{image_name}.png')\n",
    "    shutil.copy2(image_src, image_dst)\n",
    "    label_text = f\"0 {row['center_x']} {row['center_y']} {row['bb_width']} {row['bb_height']}\"\n",
    "    with open(os.path.join(val_path, f'{image_name}.txt'), 'w') as f:\n",
    "        f.write(label_text)\n",
    "print('Done moving images for val set')\n",
    "\n",
    "print('Moving images for test set')\n",
    "for _, row  in tqdm(df_test.iterrows()):\n",
    "    annotation_path = row['file']\n",
    "    image_name = os.path.split(annotation_path)[-1].replace('.xml','')\n",
    "    image_src = os.path.join(images_path, f'{image_name}.png')\n",
    "    image_dst = os.path.join(test_path, f'{image_name}.png')\n",
    "    shutil.copy2(image_src, image_dst)\n",
    "    label_text = f\"0 {row['center_x']} {row['center_y']} {row['bb_width']} {row['bb_height']}\"\n",
    "    with open(os.path.join(test_path, f'{image_name}.txt'), 'w') as f:\n",
    "        f.write(label_text)\n",
    "print('Done moving images for test set')"
   ]
  },
  {
   "cell_type": "markdown",
   "metadata": {},
   "source": [
    "# Training YOLO model"
   ]
  },
  {
   "cell_type": "code",
   "execution_count": 13,
   "metadata": {
    "execution": {
     "iopub.execute_input": "2022-07-26T18:27:56.548193Z",
     "iopub.status.busy": "2022-07-26T18:27:56.547502Z",
     "iopub.status.idle": "2022-07-26T18:28:00.273662Z",
     "shell.execute_reply": "2022-07-26T18:28:00.271616Z",
     "shell.execute_reply.started": "2022-07-26T18:27:56.548148Z"
    }
   },
   "outputs": [
    {
     "name": "stderr",
     "output_type": "stream",
     "text": [
      "fatal: destination path 'yolov5' already exists and is not an empty directory.\n"
     ]
    }
   ],
   "source": [
    "# Cloning the ultralytics yolo repository\n",
    "! git clone https://github.com/ultralytics/yolov5.git"
   ]
  },
  {
   "cell_type": "code",
   "execution_count": 14,
   "metadata": {
    "execution": {
     "iopub.execute_input": "2022-07-26T18:28:00.276979Z",
     "iopub.status.busy": "2022-07-26T18:28:00.276175Z",
     "iopub.status.idle": "2022-07-26T18:28:14.088019Z",
     "shell.execute_reply": "2022-07-26T18:28:14.086621Z",
     "shell.execute_reply.started": "2022-07-26T18:28:00.276931Z"
    }
   },
   "outputs": [
    {
     "name": "stdout",
     "output_type": "stream",
     "text": [
      "Requirement already satisfied: matplotlib>=3.2.2 in c:\\users\\pulki\\appdata\\local\\programs\\python\\python310\\lib\\site-packages (from -r yolov5/requirements.txt (line 5)) (3.5.1)\n",
      "Requirement already satisfied: numpy>=1.18.5 in c:\\users\\pulki\\appdata\\local\\programs\\python\\python310\\lib\\site-packages (from -r yolov5/requirements.txt (line 6)) (1.22.3)\n",
      "Requirement already satisfied: opencv-python>=4.1.1 in c:\\users\\pulki\\appdata\\local\\programs\\python\\python310\\lib\\site-packages (from -r yolov5/requirements.txt (line 7)) (4.6.0.66)\n",
      "Requirement already satisfied: Pillow>=7.1.2 in c:\\users\\pulki\\appdata\\local\\programs\\python\\python310\\lib\\site-packages (from -r yolov5/requirements.txt (line 8)) (9.0.1)\n",
      "Requirement already satisfied: PyYAML>=5.3.1 in c:\\users\\pulki\\appdata\\local\\programs\\python\\python310\\lib\\site-packages (from -r yolov5/requirements.txt (line 9)) (6.0)\n",
      "Requirement already satisfied: requests>=2.23.0 in c:\\users\\pulki\\appdata\\local\\programs\\python\\python310\\lib\\site-packages (from -r yolov5/requirements.txt (line 10)) (2.28.0)\n",
      "Requirement already satisfied: scipy>=1.4.1 in c:\\users\\pulki\\appdata\\local\\programs\\python\\python310\\lib\\site-packages (from -r yolov5/requirements.txt (line 11)) (1.8.0)\n",
      "Requirement already satisfied: torch>=1.7.0 in c:\\users\\pulki\\appdata\\local\\programs\\python\\python310\\lib\\site-packages (from -r yolov5/requirements.txt (line 12)) (1.12.1+cu116)\n",
      "Requirement already satisfied: torchvision>=0.8.1 in c:\\users\\pulki\\appdata\\local\\programs\\python\\python310\\lib\\site-packages (from -r yolov5/requirements.txt (line 13)) (0.13.1+cu116)\n",
      "Requirement already satisfied: tqdm>=4.64.0 in c:\\users\\pulki\\appdata\\local\\programs\\python\\python310\\lib\\site-packages (from -r yolov5/requirements.txt (line 14)) (4.64.0)\n",
      "Requirement already satisfied: protobuf<=3.20.1 in c:\\users\\pulki\\appdata\\local\\programs\\python\\python310\\lib\\site-packages (from -r yolov5/requirements.txt (line 15)) (3.19.4)\n",
      "Requirement already satisfied: tensorboard>=2.4.1 in c:\\users\\pulki\\appdata\\local\\programs\\python\\python310\\lib\\site-packages (from -r yolov5/requirements.txt (line 18)) (2.9.1)\n",
      "Requirement already satisfied: pandas>=1.1.4 in c:\\users\\pulki\\appdata\\local\\programs\\python\\python310\\lib\\site-packages (from -r yolov5/requirements.txt (line 23)) (1.4.1)\n",
      "Requirement already satisfied: seaborn>=0.11.0 in c:\\users\\pulki\\appdata\\local\\programs\\python\\python310\\lib\\site-packages (from -r yolov5/requirements.txt (line 24)) (0.11.2)\n",
      "Requirement already satisfied: ipython in c:\\users\\pulki\\appdata\\roaming\\python\\python310\\site-packages (from -r yolov5/requirements.txt (line 38)) (8.1.1)\n",
      "Requirement already satisfied: psutil in c:\\users\\pulki\\appdata\\roaming\\python\\python310\\site-packages (from -r yolov5/requirements.txt (line 39)) (5.9.0)\n",
      "Requirement already satisfied: thop>=0.1.1 in c:\\users\\pulki\\appdata\\local\\programs\\python\\python310\\lib\\site-packages (from -r yolov5/requirements.txt (line 40)) (0.1.1.post2207130030)\n",
      "Requirement already satisfied: kiwisolver>=1.0.1 in c:\\users\\pulki\\appdata\\local\\programs\\python\\python310\\lib\\site-packages (from matplotlib>=3.2.2->-r yolov5/requirements.txt (line 5)) (1.4.0)\n",
      "Requirement already satisfied: fonttools>=4.22.0 in c:\\users\\pulki\\appdata\\local\\programs\\python\\python310\\lib\\site-packages (from matplotlib>=3.2.2->-r yolov5/requirements.txt (line 5)) (4.30.0)\n",
      "Requirement already satisfied: cycler>=0.10 in c:\\users\\pulki\\appdata\\local\\programs\\python\\python310\\lib\\site-packages (from matplotlib>=3.2.2->-r yolov5/requirements.txt (line 5)) (0.11.0)\n",
      "Requirement already satisfied: packaging>=20.0 in c:\\users\\pulki\\appdata\\local\\programs\\python\\python310\\lib\\site-packages (from matplotlib>=3.2.2->-r yolov5/requirements.txt (line 5)) (21.3)\n",
      "Requirement already satisfied: pyparsing>=2.2.1 in c:\\users\\pulki\\appdata\\local\\programs\\python\\python310\\lib\\site-packages (from matplotlib>=3.2.2->-r yolov5/requirements.txt (line 5)) (3.0.7)\n",
      "Requirement already satisfied: python-dateutil>=2.7 in c:\\users\\pulki\\appdata\\roaming\\python\\python310\\site-packages (from matplotlib>=3.2.2->-r yolov5/requirements.txt (line 5)) (2.8.2)\n",
      "Requirement already satisfied: certifi>=2017.4.17 in c:\\users\\pulki\\appdata\\local\\programs\\python\\python310\\lib\\site-packages (from requests>=2.23.0->-r yolov5/requirements.txt (line 10)) (2022.5.18.1)\n",
      "Requirement already satisfied: idna<4,>=2.5 in c:\\users\\pulki\\appdata\\local\\programs\\python\\python310\\lib\\site-packages (from requests>=2.23.0->-r yolov5/requirements.txt (line 10)) (3.3)\n",
      "Requirement already satisfied: urllib3<1.27,>=1.21.1 in c:\\users\\pulki\\appdata\\local\\programs\\python\\python310\\lib\\site-packages (from requests>=2.23.0->-r yolov5/requirements.txt (line 10)) (1.26.9)\n",
      "Requirement already satisfied: charset-normalizer~=2.0.0 in c:\\users\\pulki\\appdata\\local\\programs\\python\\python310\\lib\\site-packages (from requests>=2.23.0->-r yolov5/requirements.txt (line 10)) (2.0.12)\n",
      "Requirement already satisfied: typing-extensions in c:\\users\\pulki\\appdata\\local\\programs\\python\\python310\\lib\\site-packages (from torch>=1.7.0->-r yolov5/requirements.txt (line 12)) (4.2.0)\n",
      "Requirement already satisfied: colorama in c:\\users\\pulki\\appdata\\roaming\\python\\python310\\site-packages (from tqdm>=4.64.0->-r yolov5/requirements.txt (line 14)) (0.4.4)\n",
      "Requirement already satisfied: absl-py>=0.4 in c:\\users\\pulki\\appdata\\local\\programs\\python\\python310\\lib\\site-packages (from tensorboard>=2.4.1->-r yolov5/requirements.txt (line 18)) (1.1.0)\n",
      "Requirement already satisfied: grpcio>=1.24.3 in c:\\users\\pulki\\appdata\\local\\programs\\python\\python310\\lib\\site-packages (from tensorboard>=2.4.1->-r yolov5/requirements.txt (line 18)) (1.46.3)\n",
      "Requirement already satisfied: tensorboard-plugin-wit>=1.6.0 in c:\\users\\pulki\\appdata\\local\\programs\\python\\python310\\lib\\site-packages (from tensorboard>=2.4.1->-r yolov5/requirements.txt (line 18)) (1.8.1)\n",
      "Requirement already satisfied: google-auth-oauthlib<0.5,>=0.4.1 in c:\\users\\pulki\\appdata\\local\\programs\\python\\python310\\lib\\site-packages (from tensorboard>=2.4.1->-r yolov5/requirements.txt (line 18)) (0.4.6)\n",
      "Requirement already satisfied: markdown>=2.6.8 in c:\\users\\pulki\\appdata\\local\\programs\\python\\python310\\lib\\site-packages (from tensorboard>=2.4.1->-r yolov5/requirements.txt (line 18)) (3.3.7)\n",
      "Requirement already satisfied: wheel>=0.26 in c:\\users\\pulki\\appdata\\local\\programs\\python\\python310\\lib\\site-packages (from tensorboard>=2.4.1->-r yolov5/requirements.txt (line 18)) (0.37.1)\n",
      "Requirement already satisfied: setuptools>=41.0.0 in c:\\users\\pulki\\appdata\\local\\programs\\python\\python310\\lib\\site-packages (from tensorboard>=2.4.1->-r yolov5/requirements.txt (line 18)) (58.1.0)\n",
      "Requirement already satisfied: werkzeug>=1.0.1 in c:\\users\\pulki\\appdata\\local\\programs\\python\\python310\\lib\\site-packages (from tensorboard>=2.4.1->-r yolov5/requirements.txt (line 18)) (2.1.2)\n",
      "Requirement already satisfied: google-auth<3,>=1.6.3 in c:\\users\\pulki\\appdata\\local\\programs\\python\\python310\\lib\\site-packages (from tensorboard>=2.4.1->-r yolov5/requirements.txt (line 18)) (2.7.0)\n",
      "Requirement already satisfied: tensorboard-data-server<0.7.0,>=0.6.0 in c:\\users\\pulki\\appdata\\local\\programs\\python\\python310\\lib\\site-packages (from tensorboard>=2.4.1->-r yolov5/requirements.txt (line 18)) (0.6.1)\n",
      "Requirement already satisfied: pytz>=2020.1 in c:\\users\\pulki\\appdata\\local\\programs\\python\\python310\\lib\\site-packages (from pandas>=1.1.4->-r yolov5/requirements.txt (line 23)) (2021.3)\n",
      "Requirement already satisfied: decorator in c:\\users\\pulki\\appdata\\roaming\\python\\python310\\site-packages (from ipython->-r yolov5/requirements.txt (line 38)) (5.1.1)\n",
      "Requirement already satisfied: backcall in c:\\users\\pulki\\appdata\\roaming\\python\\python310\\site-packages (from ipython->-r yolov5/requirements.txt (line 38)) (0.2.0)\n",
      "Requirement already satisfied: pickleshare in c:\\users\\pulki\\appdata\\roaming\\python\\python310\\site-packages (from ipython->-r yolov5/requirements.txt (line 38)) (0.7.5)\n",
      "Requirement already satisfied: jedi>=0.16 in c:\\users\\pulki\\appdata\\roaming\\python\\python310\\site-packages (from ipython->-r yolov5/requirements.txt (line 38)) (0.18.1)\n",
      "Requirement already satisfied: prompt-toolkit!=3.0.0,!=3.0.1,<3.1.0,>=2.0.0 in c:\\users\\pulki\\appdata\\roaming\\python\\python310\\site-packages (from ipython->-r yolov5/requirements.txt (line 38)) (3.0.28)\n",
      "Requirement already satisfied: traitlets>=5 in c:\\users\\pulki\\appdata\\local\\programs\\python\\python310\\lib\\site-packages (from ipython->-r yolov5/requirements.txt (line 38)) (5.3.0)\n",
      "Requirement already satisfied: pygments>=2.4.0 in c:\\users\\pulki\\appdata\\roaming\\python\\python310\\site-packages (from ipython->-r yolov5/requirements.txt (line 38)) (2.11.2)\n",
      "Requirement already satisfied: stack-data in c:\\users\\pulki\\appdata\\roaming\\python\\python310\\site-packages (from ipython->-r yolov5/requirements.txt (line 38)) (0.2.0)\n",
      "Requirement already satisfied: matplotlib-inline in c:\\users\\pulki\\appdata\\roaming\\python\\python310\\site-packages (from ipython->-r yolov5/requirements.txt (line 38)) (0.1.3)\n",
      "Requirement already satisfied: rsa<5,>=3.1.4 in c:\\users\\pulki\\appdata\\local\\programs\\python\\python310\\lib\\site-packages (from google-auth<3,>=1.6.3->tensorboard>=2.4.1->-r yolov5/requirements.txt (line 18)) (4.8)\n",
      "Requirement already satisfied: pyasn1-modules>=0.2.1 in c:\\users\\pulki\\appdata\\local\\programs\\python\\python310\\lib\\site-packages (from google-auth<3,>=1.6.3->tensorboard>=2.4.1->-r yolov5/requirements.txt (line 18)) (0.2.8)\n",
      "Requirement already satisfied: six>=1.9.0 in c:\\users\\pulki\\appdata\\roaming\\python\\python310\\site-packages (from google-auth<3,>=1.6.3->tensorboard>=2.4.1->-r yolov5/requirements.txt (line 18)) (1.16.0)\n",
      "Requirement already satisfied: cachetools<6.0,>=2.0.0 in c:\\users\\pulki\\appdata\\local\\programs\\python\\python310\\lib\\site-packages (from google-auth<3,>=1.6.3->tensorboard>=2.4.1->-r yolov5/requirements.txt (line 18)) (5.2.0)\n",
      "Requirement already satisfied: requests-oauthlib>=0.7.0 in c:\\users\\pulki\\appdata\\local\\programs\\python\\python310\\lib\\site-packages (from google-auth-oauthlib<0.5,>=0.4.1->tensorboard>=2.4.1->-r yolov5/requirements.txt (line 18)) (1.3.1)\n",
      "Requirement already satisfied: parso<0.9.0,>=0.8.0 in c:\\users\\pulki\\appdata\\roaming\\python\\python310\\site-packages (from jedi>=0.16->ipython->-r yolov5/requirements.txt (line 38)) (0.8.3)\n",
      "Requirement already satisfied: wcwidth in c:\\users\\pulki\\appdata\\roaming\\python\\python310\\site-packages (from prompt-toolkit!=3.0.0,!=3.0.1,<3.1.0,>=2.0.0->ipython->-r yolov5/requirements.txt (line 38)) (0.2.5)\n",
      "Requirement already satisfied: pure-eval in c:\\users\\pulki\\appdata\\roaming\\python\\python310\\site-packages (from stack-data->ipython->-r yolov5/requirements.txt (line 38)) (0.2.2)\n",
      "Requirement already satisfied: asttokens in c:\\users\\pulki\\appdata\\roaming\\python\\python310\\site-packages (from stack-data->ipython->-r yolov5/requirements.txt (line 38)) (2.0.5)\n",
      "Requirement already satisfied: executing in c:\\users\\pulki\\appdata\\roaming\\python\\python310\\site-packages (from stack-data->ipython->-r yolov5/requirements.txt (line 38)) (0.8.3)\n",
      "Requirement already satisfied: pyasn1<0.5.0,>=0.4.6 in c:\\users\\pulki\\appdata\\local\\programs\\python\\python310\\lib\\site-packages (from pyasn1-modules>=0.2.1->google-auth<3,>=1.6.3->tensorboard>=2.4.1->-r yolov5/requirements.txt (line 18)) (0.4.8)\n",
      "Requirement already satisfied: oauthlib>=3.0.0 in c:\\users\\pulki\\appdata\\local\\programs\\python\\python310\\lib\\site-packages (from requests-oauthlib>=0.7.0->google-auth-oauthlib<0.5,>=0.4.1->tensorboard>=2.4.1->-r yolov5/requirements.txt (line 18)) (3.2.0)\n"
     ]
    }
   ],
   "source": [
    "# Installing the dependencies required for YOLO\n",
    "! pip install -r yolov5/requirements.txt"
   ]
  },
  {
   "cell_type": "code",
   "execution_count": 15,
   "metadata": {
    "execution": {
     "iopub.execute_input": "2022-07-26T18:28:14.09281Z",
     "iopub.status.busy": "2022-07-26T18:28:14.091654Z",
     "iopub.status.idle": "2022-07-26T18:28:14.101826Z",
     "shell.execute_reply": "2022-07-26T18:28:14.100435Z",
     "shell.execute_reply.started": "2022-07-26T18:28:14.092757Z"
    }
   },
   "outputs": [],
   "source": [
    "# creating data.yaml file which will be used to train YOLO on custom data \n",
    "data = {\n",
    "    'names':['License Plate'],\n",
    "    'nc':1,\n",
    "    'train':os.path.abspath(train_path),\n",
    "    'val':os.path.abspath(val_path)\n",
    "}\n",
    "\n",
    "with open('data.yaml', 'w') as f:\n",
    "    yaml.dump(data, f)"
   ]
  },
  {
   "cell_type": "code",
   "execution_count": null,
   "metadata": {
    "execution": {
     "iopub.execute_input": "2022-07-26T18:28:14.105122Z",
     "iopub.status.busy": "2022-07-26T18:28:14.104791Z",
     "iopub.status.idle": "2022-07-26T19:06:22.416567Z",
     "shell.execute_reply": "2022-07-26T19:06:22.4152Z",
     "shell.execute_reply.started": "2022-07-26T18:28:14.105093Z"
    }
   },
   "outputs": [],
   "source": [
    "# Training the YOLO model \n",
    "! python ./yolov5/train.py --data ./data.yaml  --batch-size 8  --epochs 100 --weights yolov5/yolov5s.pt"
   ]
  },
  {
   "cell_type": "markdown",
   "metadata": {},
   "source": [
    "# Loading best model "
   ]
  },
  {
   "cell_type": "code",
   "execution_count": 19,
   "metadata": {
    "execution": {
     "iopub.execute_input": "2022-07-26T19:06:22.419458Z",
     "iopub.status.busy": "2022-07-26T19:06:22.418954Z",
     "iopub.status.idle": "2022-07-26T19:06:28.179975Z",
     "shell.execute_reply": "2022-07-26T19:06:28.177922Z",
     "shell.execute_reply.started": "2022-07-26T19:06:22.419406Z"
    }
   },
   "outputs": [
    {
     "name": "stderr",
     "output_type": "stream",
     "text": [
      "C:\\Users\\pulki\\AppData\\Local\\Programs\\Python\\Python310\\lib\\site-packages\\torch\\hub.py:266: UserWarning: You are about to download and run code from an untrusted repository. In a future release, this won't be allowed. To add the repository to your trusted list, change the command to {calling_fn}(..., trust_repo=False) and a command prompt will appear asking for an explicit confirmation of trust, or load(..., trust_repo=True), which will assume that the prompt is to be answered with 'yes'. You can also use load(..., trust_repo='check') which will only prompt for confirmation if the repo is not already trusted. This will eventually be the default behaviour\n",
      "  warnings.warn(\n",
      "Downloading: \"https://github.com/ultralytics/yolov5/zipball/master\" to C:\\Users\\pulki/.cache\\torch\\hub\\master.zip\n",
      "C:\\Users\\pulki\\AppData\\Local\\Programs\\Python\\Python310\\lib\\site-packages\\torchvision\\models\\detection\\anchor_utils.py:63: UserWarning: Failed to initialize NumPy: module compiled against API version 0x10 but this version of numpy is 0xf (Triggered internally at  ..\\torch\\csrc\\utils\\tensor_numpy.cpp:68.)\n",
      "  device: torch.device = torch.device(\"cpu\"),\n",
      "YOLOv5 🚀 2022-8-8 Python-3.10.2 torch-1.12.1+cu116 CUDA:0 (NVIDIA GeForce GTX 1650, 4096MiB)\n",
      "\n"
     ]
    },
    {
     "ename": "Exception",
     "evalue": "[Errno 2] No such file or directory: 'yolov5\\\\runs\\\\train\\\\exp2\\\\weights\\\\best.pt'. Cache may be out of date, try `force_reload=True` or see https://github.com/ultralytics/yolov5/issues/36 for help.",
     "output_type": "error",
     "traceback": [
      "\u001b[1;31m---------------------------------------------------------------------------\u001b[0m",
      "\u001b[1;31mFileNotFoundError\u001b[0m                         Traceback (most recent call last)",
      "File \u001b[1;32m~/.cache\\torch\\hub\\ultralytics_yolov5_master\\hubconf.py:47\u001b[0m, in \u001b[0;36m_create\u001b[1;34m(name, pretrained, channels, classes, autoshape, verbose, device)\u001b[0m\n\u001b[0;32m     46\u001b[0m \u001b[38;5;28;01mtry\u001b[39;00m:\n\u001b[1;32m---> 47\u001b[0m     model \u001b[38;5;241m=\u001b[39m \u001b[43mDetectMultiBackend\u001b[49m\u001b[43m(\u001b[49m\u001b[43mpath\u001b[49m\u001b[43m,\u001b[49m\u001b[43m \u001b[49m\u001b[43mdevice\u001b[49m\u001b[38;5;241;43m=\u001b[39;49m\u001b[43mdevice\u001b[49m\u001b[43m,\u001b[49m\u001b[43m \u001b[49m\u001b[43mfuse\u001b[49m\u001b[38;5;241;43m=\u001b[39;49m\u001b[43mautoshape\u001b[49m\u001b[43m)\u001b[49m  \u001b[38;5;66;03m# detection model\u001b[39;00m\n\u001b[0;32m     48\u001b[0m     \u001b[38;5;28;01mif\u001b[39;00m autoshape:\n",
      "File \u001b[1;32m~/.cache\\torch\\hub\\ultralytics_yolov5_master\\models\\common.py:334\u001b[0m, in \u001b[0;36mDetectMultiBackend.__init__\u001b[1;34m(self, weights, device, dnn, data, fp16, fuse)\u001b[0m\n\u001b[0;32m    333\u001b[0m \u001b[38;5;28;01mif\u001b[39;00m pt:  \u001b[38;5;66;03m# PyTorch\u001b[39;00m\n\u001b[1;32m--> 334\u001b[0m     model \u001b[38;5;241m=\u001b[39m \u001b[43mattempt_load\u001b[49m\u001b[43m(\u001b[49m\u001b[43mweights\u001b[49m\u001b[43m \u001b[49m\u001b[38;5;28;43;01mif\u001b[39;49;00m\u001b[43m \u001b[49m\u001b[38;5;28;43misinstance\u001b[39;49m\u001b[43m(\u001b[49m\u001b[43mweights\u001b[49m\u001b[43m,\u001b[49m\u001b[43m \u001b[49m\u001b[38;5;28;43mlist\u001b[39;49m\u001b[43m)\u001b[49m\u001b[43m \u001b[49m\u001b[38;5;28;43;01melse\u001b[39;49;00m\u001b[43m \u001b[49m\u001b[43mw\u001b[49m\u001b[43m,\u001b[49m\u001b[43m \u001b[49m\u001b[43mdevice\u001b[49m\u001b[38;5;241;43m=\u001b[39;49m\u001b[43mdevice\u001b[49m\u001b[43m,\u001b[49m\u001b[43m \u001b[49m\u001b[43minplace\u001b[49m\u001b[38;5;241;43m=\u001b[39;49m\u001b[38;5;28;43;01mTrue\u001b[39;49;00m\u001b[43m,\u001b[49m\u001b[43m \u001b[49m\u001b[43mfuse\u001b[49m\u001b[38;5;241;43m=\u001b[39;49m\u001b[43mfuse\u001b[49m\u001b[43m)\u001b[49m\n\u001b[0;32m    335\u001b[0m     stride \u001b[38;5;241m=\u001b[39m \u001b[38;5;28mmax\u001b[39m(\u001b[38;5;28mint\u001b[39m(model\u001b[38;5;241m.\u001b[39mstride\u001b[38;5;241m.\u001b[39mmax()), \u001b[38;5;241m32\u001b[39m)  \u001b[38;5;66;03m# model stride\u001b[39;00m\n",
      "File \u001b[1;32m~/.cache\\torch\\hub\\ultralytics_yolov5_master\\models\\experimental.py:80\u001b[0m, in \u001b[0;36mattempt_load\u001b[1;34m(weights, device, inplace, fuse)\u001b[0m\n\u001b[0;32m     79\u001b[0m \u001b[38;5;28;01mfor\u001b[39;00m w \u001b[38;5;129;01min\u001b[39;00m weights \u001b[38;5;28;01mif\u001b[39;00m \u001b[38;5;28misinstance\u001b[39m(weights, \u001b[38;5;28mlist\u001b[39m) \u001b[38;5;28;01melse\u001b[39;00m [weights]:\n\u001b[1;32m---> 80\u001b[0m     ckpt \u001b[38;5;241m=\u001b[39m \u001b[43mtorch\u001b[49m\u001b[38;5;241;43m.\u001b[39;49m\u001b[43mload\u001b[49m\u001b[43m(\u001b[49m\u001b[43mattempt_download\u001b[49m\u001b[43m(\u001b[49m\u001b[43mw\u001b[49m\u001b[43m)\u001b[49m\u001b[43m,\u001b[49m\u001b[43m \u001b[49m\u001b[43mmap_location\u001b[49m\u001b[38;5;241;43m=\u001b[39;49m\u001b[38;5;124;43m'\u001b[39;49m\u001b[38;5;124;43mcpu\u001b[39;49m\u001b[38;5;124;43m'\u001b[39;49m\u001b[43m)\u001b[49m  \u001b[38;5;66;03m# load\u001b[39;00m\n\u001b[0;32m     81\u001b[0m     ckpt \u001b[38;5;241m=\u001b[39m (ckpt\u001b[38;5;241m.\u001b[39mget(\u001b[38;5;124m'\u001b[39m\u001b[38;5;124mema\u001b[39m\u001b[38;5;124m'\u001b[39m) \u001b[38;5;129;01mor\u001b[39;00m ckpt[\u001b[38;5;124m'\u001b[39m\u001b[38;5;124mmodel\u001b[39m\u001b[38;5;124m'\u001b[39m])\u001b[38;5;241m.\u001b[39mto(device)\u001b[38;5;241m.\u001b[39mfloat()  \u001b[38;5;66;03m# FP32 model\u001b[39;00m\n",
      "File \u001b[1;32m~\\AppData\\Local\\Programs\\Python\\Python310\\lib\\site-packages\\torch\\serialization.py:699\u001b[0m, in \u001b[0;36mload\u001b[1;34m(f, map_location, pickle_module, **pickle_load_args)\u001b[0m\n\u001b[0;32m    697\u001b[0m     pickle_load_args[\u001b[38;5;124m'\u001b[39m\u001b[38;5;124mencoding\u001b[39m\u001b[38;5;124m'\u001b[39m] \u001b[38;5;241m=\u001b[39m \u001b[38;5;124m'\u001b[39m\u001b[38;5;124mutf-8\u001b[39m\u001b[38;5;124m'\u001b[39m\n\u001b[1;32m--> 699\u001b[0m \u001b[38;5;28;01mwith\u001b[39;00m \u001b[43m_open_file_like\u001b[49m\u001b[43m(\u001b[49m\u001b[43mf\u001b[49m\u001b[43m,\u001b[49m\u001b[43m \u001b[49m\u001b[38;5;124;43m'\u001b[39;49m\u001b[38;5;124;43mrb\u001b[39;49m\u001b[38;5;124;43m'\u001b[39;49m\u001b[43m)\u001b[49m \u001b[38;5;28;01mas\u001b[39;00m opened_file:\n\u001b[0;32m    700\u001b[0m     \u001b[38;5;28;01mif\u001b[39;00m _is_zipfile(opened_file):\n\u001b[0;32m    701\u001b[0m         \u001b[38;5;66;03m# The zipfile reader is going to advance the current file position.\u001b[39;00m\n\u001b[0;32m    702\u001b[0m         \u001b[38;5;66;03m# If we want to actually tail call to torch.jit.load, we need to\u001b[39;00m\n\u001b[0;32m    703\u001b[0m         \u001b[38;5;66;03m# reset back to the original position.\u001b[39;00m\n",
      "File \u001b[1;32m~\\AppData\\Local\\Programs\\Python\\Python310\\lib\\site-packages\\torch\\serialization.py:230\u001b[0m, in \u001b[0;36m_open_file_like\u001b[1;34m(name_or_buffer, mode)\u001b[0m\n\u001b[0;32m    229\u001b[0m \u001b[38;5;28;01mif\u001b[39;00m _is_path(name_or_buffer):\n\u001b[1;32m--> 230\u001b[0m     \u001b[38;5;28;01mreturn\u001b[39;00m \u001b[43m_open_file\u001b[49m\u001b[43m(\u001b[49m\u001b[43mname_or_buffer\u001b[49m\u001b[43m,\u001b[49m\u001b[43m \u001b[49m\u001b[43mmode\u001b[49m\u001b[43m)\u001b[49m\n\u001b[0;32m    231\u001b[0m \u001b[38;5;28;01melse\u001b[39;00m:\n",
      "File \u001b[1;32m~\\AppData\\Local\\Programs\\Python\\Python310\\lib\\site-packages\\torch\\serialization.py:211\u001b[0m, in \u001b[0;36m_open_file.__init__\u001b[1;34m(self, name, mode)\u001b[0m\n\u001b[0;32m    210\u001b[0m \u001b[38;5;28;01mdef\u001b[39;00m \u001b[38;5;21m__init__\u001b[39m(\u001b[38;5;28mself\u001b[39m, name, mode):\n\u001b[1;32m--> 211\u001b[0m     \u001b[38;5;28msuper\u001b[39m(_open_file, \u001b[38;5;28mself\u001b[39m)\u001b[38;5;241m.\u001b[39m\u001b[38;5;21m__init__\u001b[39m(\u001b[38;5;28;43mopen\u001b[39;49m\u001b[43m(\u001b[49m\u001b[43mname\u001b[49m\u001b[43m,\u001b[49m\u001b[43m \u001b[49m\u001b[43mmode\u001b[49m\u001b[43m)\u001b[49m)\n",
      "\u001b[1;31mFileNotFoundError\u001b[0m: [Errno 2] No such file or directory: 'yolov5\\\\runs\\\\train\\\\exp2\\\\weights\\\\best.pt'",
      "\nDuring handling of the above exception, another exception occurred:\n",
      "\u001b[1;31mFileNotFoundError\u001b[0m                         Traceback (most recent call last)",
      "File \u001b[1;32m~/.cache\\torch\\hub\\ultralytics_yolov5_master\\hubconf.py:51\u001b[0m, in \u001b[0;36m_create\u001b[1;34m(name, pretrained, channels, classes, autoshape, verbose, device)\u001b[0m\n\u001b[0;32m     50\u001b[0m     \u001b[38;5;28;01mexcept\u001b[39;00m \u001b[38;5;167;01mException\u001b[39;00m:\n\u001b[1;32m---> 51\u001b[0m         model \u001b[38;5;241m=\u001b[39m \u001b[43mattempt_load\u001b[49m\u001b[43m(\u001b[49m\u001b[43mpath\u001b[49m\u001b[43m,\u001b[49m\u001b[43m \u001b[49m\u001b[43mdevice\u001b[49m\u001b[38;5;241;43m=\u001b[39;49m\u001b[43mdevice\u001b[49m\u001b[43m,\u001b[49m\u001b[43m \u001b[49m\u001b[43mfuse\u001b[49m\u001b[38;5;241;43m=\u001b[39;49m\u001b[38;5;28;43;01mFalse\u001b[39;49;00m\u001b[43m)\u001b[49m  \u001b[38;5;66;03m# arbitrary model\u001b[39;00m\n\u001b[0;32m     52\u001b[0m \u001b[38;5;28;01melse\u001b[39;00m:\n",
      "File \u001b[1;32m~/.cache\\torch\\hub\\ultralytics_yolov5_master\\models\\experimental.py:80\u001b[0m, in \u001b[0;36mattempt_load\u001b[1;34m(weights, device, inplace, fuse)\u001b[0m\n\u001b[0;32m     79\u001b[0m \u001b[38;5;28;01mfor\u001b[39;00m w \u001b[38;5;129;01min\u001b[39;00m weights \u001b[38;5;28;01mif\u001b[39;00m \u001b[38;5;28misinstance\u001b[39m(weights, \u001b[38;5;28mlist\u001b[39m) \u001b[38;5;28;01melse\u001b[39;00m [weights]:\n\u001b[1;32m---> 80\u001b[0m     ckpt \u001b[38;5;241m=\u001b[39m \u001b[43mtorch\u001b[49m\u001b[38;5;241;43m.\u001b[39;49m\u001b[43mload\u001b[49m\u001b[43m(\u001b[49m\u001b[43mattempt_download\u001b[49m\u001b[43m(\u001b[49m\u001b[43mw\u001b[49m\u001b[43m)\u001b[49m\u001b[43m,\u001b[49m\u001b[43m \u001b[49m\u001b[43mmap_location\u001b[49m\u001b[38;5;241;43m=\u001b[39;49m\u001b[38;5;124;43m'\u001b[39;49m\u001b[38;5;124;43mcpu\u001b[39;49m\u001b[38;5;124;43m'\u001b[39;49m\u001b[43m)\u001b[49m  \u001b[38;5;66;03m# load\u001b[39;00m\n\u001b[0;32m     81\u001b[0m     ckpt \u001b[38;5;241m=\u001b[39m (ckpt\u001b[38;5;241m.\u001b[39mget(\u001b[38;5;124m'\u001b[39m\u001b[38;5;124mema\u001b[39m\u001b[38;5;124m'\u001b[39m) \u001b[38;5;129;01mor\u001b[39;00m ckpt[\u001b[38;5;124m'\u001b[39m\u001b[38;5;124mmodel\u001b[39m\u001b[38;5;124m'\u001b[39m])\u001b[38;5;241m.\u001b[39mto(device)\u001b[38;5;241m.\u001b[39mfloat()  \u001b[38;5;66;03m# FP32 model\u001b[39;00m\n",
      "File \u001b[1;32m~\\AppData\\Local\\Programs\\Python\\Python310\\lib\\site-packages\\torch\\serialization.py:699\u001b[0m, in \u001b[0;36mload\u001b[1;34m(f, map_location, pickle_module, **pickle_load_args)\u001b[0m\n\u001b[0;32m    697\u001b[0m     pickle_load_args[\u001b[38;5;124m'\u001b[39m\u001b[38;5;124mencoding\u001b[39m\u001b[38;5;124m'\u001b[39m] \u001b[38;5;241m=\u001b[39m \u001b[38;5;124m'\u001b[39m\u001b[38;5;124mutf-8\u001b[39m\u001b[38;5;124m'\u001b[39m\n\u001b[1;32m--> 699\u001b[0m \u001b[38;5;28;01mwith\u001b[39;00m \u001b[43m_open_file_like\u001b[49m\u001b[43m(\u001b[49m\u001b[43mf\u001b[49m\u001b[43m,\u001b[49m\u001b[43m \u001b[49m\u001b[38;5;124;43m'\u001b[39;49m\u001b[38;5;124;43mrb\u001b[39;49m\u001b[38;5;124;43m'\u001b[39;49m\u001b[43m)\u001b[49m \u001b[38;5;28;01mas\u001b[39;00m opened_file:\n\u001b[0;32m    700\u001b[0m     \u001b[38;5;28;01mif\u001b[39;00m _is_zipfile(opened_file):\n\u001b[0;32m    701\u001b[0m         \u001b[38;5;66;03m# The zipfile reader is going to advance the current file position.\u001b[39;00m\n\u001b[0;32m    702\u001b[0m         \u001b[38;5;66;03m# If we want to actually tail call to torch.jit.load, we need to\u001b[39;00m\n\u001b[0;32m    703\u001b[0m         \u001b[38;5;66;03m# reset back to the original position.\u001b[39;00m\n",
      "File \u001b[1;32m~\\AppData\\Local\\Programs\\Python\\Python310\\lib\\site-packages\\torch\\serialization.py:230\u001b[0m, in \u001b[0;36m_open_file_like\u001b[1;34m(name_or_buffer, mode)\u001b[0m\n\u001b[0;32m    229\u001b[0m \u001b[38;5;28;01mif\u001b[39;00m _is_path(name_or_buffer):\n\u001b[1;32m--> 230\u001b[0m     \u001b[38;5;28;01mreturn\u001b[39;00m \u001b[43m_open_file\u001b[49m\u001b[43m(\u001b[49m\u001b[43mname_or_buffer\u001b[49m\u001b[43m,\u001b[49m\u001b[43m \u001b[49m\u001b[43mmode\u001b[49m\u001b[43m)\u001b[49m\n\u001b[0;32m    231\u001b[0m \u001b[38;5;28;01melse\u001b[39;00m:\n",
      "File \u001b[1;32m~\\AppData\\Local\\Programs\\Python\\Python310\\lib\\site-packages\\torch\\serialization.py:211\u001b[0m, in \u001b[0;36m_open_file.__init__\u001b[1;34m(self, name, mode)\u001b[0m\n\u001b[0;32m    210\u001b[0m \u001b[38;5;28;01mdef\u001b[39;00m \u001b[38;5;21m__init__\u001b[39m(\u001b[38;5;28mself\u001b[39m, name, mode):\n\u001b[1;32m--> 211\u001b[0m     \u001b[38;5;28msuper\u001b[39m(_open_file, \u001b[38;5;28mself\u001b[39m)\u001b[38;5;241m.\u001b[39m\u001b[38;5;21m__init__\u001b[39m(\u001b[38;5;28;43mopen\u001b[39;49m\u001b[43m(\u001b[49m\u001b[43mname\u001b[49m\u001b[43m,\u001b[49m\u001b[43m \u001b[49m\u001b[43mmode\u001b[49m\u001b[43m)\u001b[49m)\n",
      "\u001b[1;31mFileNotFoundError\u001b[0m: [Errno 2] No such file or directory: 'yolov5\\\\runs\\\\train\\\\exp2\\\\weights\\\\best.pt'",
      "\nThe above exception was the direct cause of the following exception:\n",
      "\u001b[1;31mException\u001b[0m                                 Traceback (most recent call last)",
      "Input \u001b[1;32mIn [19]\u001b[0m, in \u001b[0;36m<cell line: 9>\u001b[1;34m()\u001b[0m\n\u001b[0;32m      6\u001b[0m best_weights \u001b[38;5;241m=\u001b[39m os\u001b[38;5;241m.\u001b[39mpath\u001b[38;5;241m.\u001b[39mjoin(yolo_path, latest_run, \u001b[38;5;124m'\u001b[39m\u001b[38;5;124mweights\u001b[39m\u001b[38;5;124m'\u001b[39m, \u001b[38;5;124m'\u001b[39m\u001b[38;5;124mbest.pt\u001b[39m\u001b[38;5;124m'\u001b[39m)\n\u001b[0;32m      8\u001b[0m \u001b[38;5;66;03m# Loading the model with best weights trained on custom data \u001b[39;00m\n\u001b[1;32m----> 9\u001b[0m model \u001b[38;5;241m=\u001b[39m \u001b[43mtorch\u001b[49m\u001b[38;5;241;43m.\u001b[39;49m\u001b[43mhub\u001b[49m\u001b[38;5;241;43m.\u001b[39;49m\u001b[43mload\u001b[49m\u001b[43m(\u001b[49m\u001b[38;5;124;43m'\u001b[39;49m\u001b[38;5;124;43multralytics/yolov5\u001b[39;49m\u001b[38;5;124;43m'\u001b[39;49m\u001b[43m,\u001b[49m\u001b[43m \u001b[49m\u001b[38;5;124;43m'\u001b[39;49m\u001b[38;5;124;43mcustom\u001b[39;49m\u001b[38;5;124;43m'\u001b[39;49m\u001b[43m,\u001b[49m\u001b[43m \u001b[49m\u001b[43mbest_weights\u001b[49m\u001b[43m)\u001b[49m\n",
      "File \u001b[1;32m~\\AppData\\Local\\Programs\\Python\\Python310\\lib\\site-packages\\torch\\hub.py:540\u001b[0m, in \u001b[0;36mload\u001b[1;34m(repo_or_dir, model, source, trust_repo, force_reload, verbose, skip_validation, *args, **kwargs)\u001b[0m\n\u001b[0;32m    536\u001b[0m \u001b[38;5;28;01mif\u001b[39;00m source \u001b[38;5;241m==\u001b[39m \u001b[38;5;124m'\u001b[39m\u001b[38;5;124mgithub\u001b[39m\u001b[38;5;124m'\u001b[39m:\n\u001b[0;32m    537\u001b[0m     repo_or_dir \u001b[38;5;241m=\u001b[39m _get_cache_or_reload(repo_or_dir, force_reload, trust_repo, \u001b[38;5;124m\"\u001b[39m\u001b[38;5;124mload\u001b[39m\u001b[38;5;124m\"\u001b[39m,\n\u001b[0;32m    538\u001b[0m                                        verbose\u001b[38;5;241m=\u001b[39mverbose, skip_validation\u001b[38;5;241m=\u001b[39mskip_validation)\n\u001b[1;32m--> 540\u001b[0m model \u001b[38;5;241m=\u001b[39m _load_local(repo_or_dir, model, \u001b[38;5;241m*\u001b[39margs, \u001b[38;5;241m*\u001b[39m\u001b[38;5;241m*\u001b[39mkwargs)\n\u001b[0;32m    541\u001b[0m \u001b[38;5;28;01mreturn\u001b[39;00m model\n",
      "File \u001b[1;32m~\\AppData\\Local\\Programs\\Python\\Python310\\lib\\site-packages\\torch\\hub.py:569\u001b[0m, in \u001b[0;36m_load_local\u001b[1;34m(hubconf_dir, model, *args, **kwargs)\u001b[0m\n\u001b[0;32m    566\u001b[0m hub_module \u001b[38;5;241m=\u001b[39m _import_module(MODULE_HUBCONF, hubconf_path)\n\u001b[0;32m    568\u001b[0m entry \u001b[38;5;241m=\u001b[39m _load_entry_from_hubconf(hub_module, model)\n\u001b[1;32m--> 569\u001b[0m model \u001b[38;5;241m=\u001b[39m entry(\u001b[38;5;241m*\u001b[39margs, \u001b[38;5;241m*\u001b[39m\u001b[38;5;241m*\u001b[39mkwargs)\n\u001b[0;32m    571\u001b[0m sys\u001b[38;5;241m.\u001b[39mpath\u001b[38;5;241m.\u001b[39mremove(hubconf_dir)\n\u001b[0;32m    573\u001b[0m \u001b[38;5;28;01mreturn\u001b[39;00m model\n",
      "File \u001b[1;32m~/.cache\\torch\\hub\\ultralytics_yolov5_master\\hubconf.py:74\u001b[0m, in \u001b[0;36mcustom\u001b[1;34m(path, autoshape, _verbose, device)\u001b[0m\n\u001b[0;32m     72\u001b[0m \u001b[38;5;28;01mdef\u001b[39;00m \u001b[38;5;21mcustom\u001b[39m(path\u001b[38;5;241m=\u001b[39m\u001b[38;5;124m'\u001b[39m\u001b[38;5;124mpath/to/model.pt\u001b[39m\u001b[38;5;124m'\u001b[39m, autoshape\u001b[38;5;241m=\u001b[39m\u001b[38;5;28;01mTrue\u001b[39;00m, _verbose\u001b[38;5;241m=\u001b[39m\u001b[38;5;28;01mTrue\u001b[39;00m, device\u001b[38;5;241m=\u001b[39m\u001b[38;5;28;01mNone\u001b[39;00m):\n\u001b[0;32m     73\u001b[0m     \u001b[38;5;66;03m# YOLOv5 custom or local model\u001b[39;00m\n\u001b[1;32m---> 74\u001b[0m     \u001b[38;5;28;01mreturn\u001b[39;00m \u001b[43m_create\u001b[49m\u001b[43m(\u001b[49m\u001b[43mpath\u001b[49m\u001b[43m,\u001b[49m\u001b[43m \u001b[49m\u001b[43mautoshape\u001b[49m\u001b[38;5;241;43m=\u001b[39;49m\u001b[43mautoshape\u001b[49m\u001b[43m,\u001b[49m\u001b[43m \u001b[49m\u001b[43mverbose\u001b[49m\u001b[38;5;241;43m=\u001b[39;49m\u001b[43m_verbose\u001b[49m\u001b[43m,\u001b[49m\u001b[43m \u001b[49m\u001b[43mdevice\u001b[49m\u001b[38;5;241;43m=\u001b[39;49m\u001b[43mdevice\u001b[49m\u001b[43m)\u001b[49m\n",
      "File \u001b[1;32m~/.cache\\torch\\hub\\ultralytics_yolov5_master\\hubconf.py:69\u001b[0m, in \u001b[0;36m_create\u001b[1;34m(name, pretrained, channels, classes, autoshape, verbose, device)\u001b[0m\n\u001b[0;32m     67\u001b[0m help_url \u001b[38;5;241m=\u001b[39m \u001b[38;5;124m'\u001b[39m\u001b[38;5;124mhttps://github.com/ultralytics/yolov5/issues/36\u001b[39m\u001b[38;5;124m'\u001b[39m\n\u001b[0;32m     68\u001b[0m s \u001b[38;5;241m=\u001b[39m \u001b[38;5;124mf\u001b[39m\u001b[38;5;124m'\u001b[39m\u001b[38;5;132;01m{\u001b[39;00me\u001b[38;5;132;01m}\u001b[39;00m\u001b[38;5;124m. Cache may be out of date, try `force_reload=True` or see \u001b[39m\u001b[38;5;132;01m{\u001b[39;00mhelp_url\u001b[38;5;132;01m}\u001b[39;00m\u001b[38;5;124m for help.\u001b[39m\u001b[38;5;124m'\u001b[39m\n\u001b[1;32m---> 69\u001b[0m \u001b[38;5;28;01mraise\u001b[39;00m \u001b[38;5;167;01mException\u001b[39;00m(s) \u001b[38;5;28;01mfrom\u001b[39;00m \u001b[38;5;21;01me\u001b[39;00m\n",
      "\u001b[1;31mException\u001b[0m: [Errno 2] No such file or directory: 'yolov5\\\\runs\\\\train\\\\exp2\\\\weights\\\\best.pt'. Cache may be out of date, try `force_reload=True` or see https://github.com/ultralytics/yolov5/issues/36 for help."
     ]
    }
   ],
   "source": [
    "# Fetching the latest runs\n",
    "yolo_path = 'yolov5/runs/train/'\n",
    "latest_run = os.listdir(yolo_path)[-1]\n",
    "\n",
    "# Fetching the best weights \n",
    "best_weights = os.path.join(yolo_path, latest_run, 'weights', 'best.pt')\n",
    "\n",
    "# Loading the model with best weights trained on custom data \n",
    "model = torch.hub.load('ultralytics/yolov5', 'custom', best_weights)"
   ]
  },
  {
   "cell_type": "markdown",
   "metadata": {},
   "source": [
    "# Visualizing predictions"
   ]
  },
  {
   "cell_type": "code",
   "execution_count": null,
   "metadata": {
    "execution": {
     "iopub.execute_input": "2022-07-26T19:06:28.192865Z",
     "iopub.status.busy": "2022-07-26T19:06:28.188293Z",
     "iopub.status.idle": "2022-07-26T19:06:34.740819Z",
     "shell.execute_reply": "2022-07-26T19:06:34.739374Z",
     "shell.execute_reply.started": "2022-07-26T19:06:28.192802Z"
    }
   },
   "outputs": [],
   "source": [
    "%matplotlib inline\n",
    "# Fetching random 16 images from test set\n",
    "test_files = df_test['file'].apply(lambda x: x.replace('annotations','images').replace('xml','png'))\n",
    "test_images = np.random.choice(test_files, size=(4,4))\n",
    "\n",
    "# Visualizing predictions\n",
    "fig, ax = plt.subplots(figsize=(16,16), nrows=4, ncols=4)\n",
    "for i in range(4):\n",
    "    for j in range(4):\n",
    "        # Reading the image \n",
    "        image = cv2.imread(test_images[i,j])\n",
    "        # Convert image to RGB colorspace\n",
    "        image = cv2.cvtColor(image, cv2.COLOR_BGR2RGB)\n",
    "        # Predicting from model\n",
    "        results = model(image)\n",
    "        # Getting co ordinates of license plate\n",
    "        results_df = results.pandas().xyxy[0].loc[0]\n",
    "        x_min = int(results_df['xmin'])\n",
    "        x_max = int(results_df['xmax'])\n",
    "        y_min = int(results_df['ymin'])\n",
    "        y_max = int(results_df['ymax'])\n",
    "        # Cropping license plate from image \"\"\n",
    "        number_plate = image[y_min:y_max,x_min:x_max]\n",
    "        # Performing OCR on image \n",
    "        text = pt.image_to_string(number_plate)\n",
    "        # Showing the results \n",
    "        ax[i,j].set_title(str(text).strip())\n",
    "        ax[i,j].imshow(np.squeeze(results.render()))\n",
    "plt.show()"
   ]
  },
  {
   "cell_type": "code",
   "execution_count": null,
   "metadata": {},
   "outputs": [],
   "source": [
    "import easyocr"
   ]
  },
  {
   "cell_type": "code",
   "execution_count": null,
   "metadata": {},
   "outputs": [],
   "source": [
    "runs_path = os.path.join('yolov5', 'runs', 'train')\n",
    "path = os.path.join(runs_path, latest_run, 'weights', 'best.pt')\n",
    "\n",
    "model = torch.hub.load('ultralytics/yolov5', 'custom', path=path)\n",
    "reader = easyocr.Reader(lang_list=['en'])\n"
   ]
  },
  {
   "cell_type": "code",
   "execution_count": null,
   "metadata": {},
   "outputs": [],
   "source": [
    "plate_image = cv2.imread(\"car_image\")\n",
    "car_image = cv2.cvtColor(car_image, cv2.COLOR_BGR2RGB)\n",
    "results = model(car_image)\n",
    "final_img = np.squeeze(results.render())\n",
    "try:\n",
    "     # Getting co ordinates of license plate\n",
    "    results_df = results.pandas().xyxy[0].loc[0]\n",
    "    x_min = int(results_df['xmin'])\n",
    "    x_max = int(results_df['xmax'])\n",
    "    y_min = int(results_df['ymin'])\n",
    "    y_max = int(results_df['ymax'])\n",
    "    # Cropping license plate from image \n",
    "    number_plate = frame[y_min:y_max,x_min:x_max]\n",
    "    # Converting the number plate to grayscale\n",
    "    number_plate = cv2.cvtColor(number_plate, cv2.COLOR_RGB2GRAY)\n",
    "    # Binarizing the image \n",
    "    _, number_plate = cv2.threshold(number_plate, 128,255, cv2.THRESH_BINARY)\n",
    "    texts = reader.readtext(number_plate)\n",
    "    license_plate_no = texts[0][-2] if len(texts) == 1 else ' '.join([text[-2] for text in texts])\n",
    "    final_img = cv2.putText(final_img, str(license_plate_no), org=(x_min, y_max), \n",
    "                            fontFace=cv2.FONT_HERSHEY_COMPLEX, fontScale=1, color=(0,255,0), thickness=2)\n",
    "except:\n",
    "    pass\n",
    "cv2.imshow('Image', final_img)\n",
    "if cv2.waitKey(10) & 0xFF == ord('q'):\n",
    "    break\n"
   ]
  },
  {
   "cell_type": "code",
   "execution_count": null,
   "metadata": {},
   "outputs": [],
   "source": []
  }
 ],
 "metadata": {
  "kernelspec": {
   "display_name": "Python 3 (ipykernel)",
   "language": "python",
   "name": "python3"
  },
  "language_info": {
   "codemirror_mode": {
    "name": "ipython",
    "version": 3
   },
   "file_extension": ".py",
   "mimetype": "text/x-python",
   "name": "python",
   "nbconvert_exporter": "python",
   "pygments_lexer": "ipython3",
   "version": "3.10.2"
  },
  "vscode": {
   "interpreter": {
    "hash": "07bb952a1f3121035f1e8c8bad84844f9757e7e928da7c2841f5477bce1102e2"
   }
  }
 },
 "nbformat": 4,
 "nbformat_minor": 4
}
